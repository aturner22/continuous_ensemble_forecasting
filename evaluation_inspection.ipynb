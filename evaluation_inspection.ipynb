{
 "cells": [
  {
   "cell_type": "code",
   "execution_count": 2,
   "id": "0bfd16c0",
   "metadata": {},
   "outputs": [],
   "source": [
    "import numpy as np \n",
    "\n",
    "info = np.load(\"/Users/ashleyturner/Development/imperial/msc_research_project/unet_abc/results/rfp_gibbs_abc_higher_hyperparams_2025-07-21T22:48:01Z/evaluation/verification_metrics.npy\", allow_pickle=True)"
   ]
  },
  {
   "cell_type": "code",
   "execution_count": 4,
   "id": "6c74cb6e",
   "metadata": {},
   "outputs": [
    {
     "name": "stdout",
     "output_type": "stream",
     "text": [
      "{'posterior_mean': defaultdict(<class 'float'>, {'crps': 0.6880432509351522, 'mae': 0.17764069279655814, 'spread': 0.826046223344747, 'energy': 34.26147694140673, 'variogram': 0.4045173157937825, 'brier': 0.013335515719063551}), 'posterior_sample': defaultdict(<class 'float'>, {'crps': 0.6887071313103661, 'mae': 0.17822637424978893, 'spread': 0.8292654940742068, 'energy': 34.24430546537042, 'variogram': 0.40334258231450804, 'brier': 0.013349658508104767}), 'persistence': defaultdict(<class 'float'>, {'crps': 0.15609828286687844, 'mae': 0.15634292412141804, 'spread': 0.0, 'energy': 30.77721038646996, 'variogram': 0.9846272511640564, 'brier': 0.012020261208363081}), 'climatology': defaultdict(<class 'float'>, {'crps': 1.1309218362439424, 'mae': 0.8348958303686231, 'spread': 0.9869311028742231, 'energy': 75.15462579578161, 'variogram': 0.19852259134495398, 'brier': 0.012136230110172619}), 'deterministic_noise': defaultdict(<class 'float'>, {'crps': 0.10914283119927859, 'mae': 0.07543490935495356, 'spread': 0.09772117193642771, 'energy': 9.627228589728475, 'variogram': 0.838528034510091, 'brier': 0.01201974834293651}), 'ar1': defaultdict(<class 'float'>, {'crps': 0.2559961660881527, 'mae': 0.16364138935750816, 'spread': 0.23553065964370035, 'energy': 22.242168648168445, 'variogram': 0.7396314437501132, 'brier': 0.012021102821563545})}\n"
     ]
    }
   ],
   "source": [
    "print(info)"
   ]
  },
  {
   "cell_type": "code",
   "execution_count": 13,
   "id": "26eacd5c",
   "metadata": {},
   "outputs": [
    {
     "name": "stdout",
     "output_type": "stream",
     "text": [
      "{   'ar1': defaultdict(<class 'float'>,\n",
      "                       {   'brier': 0.012021102821563545,\n",
      "                           'crps': 0.2559961660881527,\n",
      "                           'energy': 22.242168648168445,\n",
      "                           'mae': 0.16364138935750816,\n",
      "                           'spread': 0.23553065964370035,\n",
      "                           'variogram': 0.7396314437501132}),\n",
      "    'climatology': defaultdict(<class 'float'>,\n",
      "                               {   'brier': 0.012136230110172619,\n",
      "                                   'crps': 1.1309218362439424,\n",
      "                                   'energy': 75.15462579578161,\n",
      "                                   'mae': 0.8348958303686231,\n",
      "                                   'spread': 0.9869311028742231,\n",
      "                                   'variogram': 0.19852259134495398}),\n",
      "    'deterministic_noise': defaultdict(<class 'float'>,\n",
      "                                       {   'brier': 0.01201974834293651,\n",
      "                                           'crps': 0.10914283119927859,\n",
      "                                           'energy': 9.627228589728475,\n",
      "                                           'mae': 0.07543490935495356,\n",
      "                                           'spread': 0.09772117193642771,\n",
      "                                           'variogram': 0.838528034510091}),\n",
      "    'persistence': defaultdict(<class 'float'>,\n",
      "                               {   'brier': 0.012020261208363081,\n",
      "                                   'crps': 0.15609828286687844,\n",
      "                                   'energy': 30.77721038646996,\n",
      "                                   'mae': 0.15634292412141804,\n",
      "                                   'spread': 0.0,\n",
      "                                   'variogram': 0.9846272511640564}),\n",
      "    'posterior_mean': defaultdict(<class 'float'>,\n",
      "                                  {   'brier': 0.013335515719063551,\n",
      "                                      'crps': 0.6880432509351522,\n",
      "                                      'energy': 34.26147694140673,\n",
      "                                      'mae': 0.17764069279655814,\n",
      "                                      'spread': 0.826046223344747,\n",
      "                                      'variogram': 0.4045173157937825}),\n",
      "    'posterior_sample': defaultdict(<class 'float'>,\n",
      "                                    {   'brier': 0.013349658508104767,\n",
      "                                        'crps': 0.6887071313103661,\n",
      "                                        'energy': 34.24430546537042,\n",
      "                                        'mae': 0.17822637424978893,\n",
      "                                        'spread': 0.8292654940742068,\n",
      "                                        'variogram': 0.40334258231450804})}\n"
     ]
    }
   ],
   "source": [
    "import pprint \n",
    "newinfo = info.tolist()\n",
    "pp = pprint.PrettyPrinter(indent=4)\n",
    "\n",
    "pp.pprint(newinfo)"
   ]
  },
  {
   "cell_type": "code",
   "execution_count": null,
   "id": "11f0ca86",
   "metadata": {},
   "outputs": [],
   "source": []
  }
 ],
 "metadata": {
  "kernelspec": {
   "display_name": "venv",
   "language": "python",
   "name": "python3"
  },
  "language_info": {
   "codemirror_mode": {
    "name": "ipython",
    "version": 3
   },
   "file_extension": ".py",
   "mimetype": "text/x-python",
   "name": "python",
   "nbconvert_exporter": "python",
   "pygments_lexer": "ipython3",
   "version": "3.10.18"
  }
 },
 "nbformat": 4,
 "nbformat_minor": 5
}
